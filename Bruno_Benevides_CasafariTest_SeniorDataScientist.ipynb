{
 "cells": [
  {
   "cell_type": "markdown",
   "metadata": {
    "colab_type": "text",
    "id": "6mEGUK7rYoRC"
   },
   "source": [
    "# Casafari Take-Home Challenge\n",
    "\n",
    "### Personal Identification\n",
    "Fill here your personal information to accelerate the assessment by our team:\n",
    "* NAME: Bruno Italo Lima Benevides;\n",
    "* GitHub: https://github.com/brunoitalobenevides . LinkedIn:https://www.linkedin.com/in/bruno-benevides-9981a346/;\n",
    "* Data Scientist: 2 years of experience;\n",
    "* Sr. Data Scientist. 1st year:In the 1st year I want to pratice more data wrangling, analysis and statistcal modeling. In the 2nd year I'd like to use Artificial Intelligence to build bots and help people to find the services they are looking for and untill predict what a person wants, before she thinks she wants to.\n",
    "* 1st year: 25k Euros. 2nd year: 37k.\n",
    "\n",
    "### General Information\n",
    "\n",
    "The test is split in three parts and it was designed to give you a complete, yet short, overview of some our daily activities as data scientist at Casafari. \n",
    "\n",
    "The first two parts (Data Extraction and Data Querying) are straightforward and each one is worth 25% of the overall score. The last part , worth 50% of the overall score, is more open-ended and meant to stretch your data science knowledge. Each section has one extra challenge. They are not mandatory nor counted in the general score, but if you have time, they are the chance to impress us with your extraordinary skills.\n",
    "\n",
    "### Guidelines\n",
    "* We expect that the test should take around 6 hours to do. However, we strongly advise you to carefully read this assignment, think about approaches and try to understand the data before diving into the questions. You are free to spend as much time on it as you want, within the timeframe given by our recruiter.\n",
    "* **You can complete this assignment working on this Google Colab, or if you prefer you can use download it and use it as standalone jupyter notebook and send them back to us together with the relevant files.**\n",
    "* In case of using this Google Colab, you'll need to download those files in [this link](https://drive.google.com/open?id=1GvESbHspNnPhRBGt-FWEG5eOWA1Pdckp) and upload it on this notebook running the cell below.\n",
    "* If you want to use some python packages that are not yet installed on this notebook, use !pip install package."
   ]
  },
  {
   "cell_type": "code",
   "execution_count": 203,
   "metadata": {
    "colab": {},
    "colab_type": "code",
    "id": "wn82o9okMFJR"
   },
   "outputs": [],
   "source": [
    "import pandas as pd\n",
    "import numpy as np\n",
    "%matplotlib inline"
   ]
  },
  {
   "cell_type": "markdown",
   "metadata": {
    "colab_type": "text",
    "id": "LT_oz7zmYwoL"
   },
   "source": [
    "# Data Extraction (CSS + REGEX)\n",
    "\n",
    "Casafari tracks the entire real estate market by aggregating properties from thousands of different websites. The first step of this process is to collect all the relevant information using web crawlers. This task will give a brief overview of how this extraction is made. \n",
    "\n",
    "The task consists of 3 parts, which will evaluate your skills in CSS3 selectors and regular expressions knowledge, which are essential to data extraction processes. We believe that even if you do not have previous knowledge of CSS, HTML and REGEX, you should be able to complete this task in less than a hour. There are many tutorials and informations on how to use CSS3 selectors and regular expressions to extract data. Do not be afraid to google it! This task is also a evaluation of your learning capabilities.\n",
    "\n",
    "The normal questions already have some examples and can be solved only by filling the CSS3 selectors or the regular expressions in the given space. You can check if you have the correct results by running the pre-made script after it. However, if you feel comfortable, you can use another python package and rewrite the script in a similar way to extract the data.\n",
    "\n",
    "For the extra challenges, you'll need to construct the scripts from scratch."
   ]
  },
  {
   "cell_type": "markdown",
   "metadata": {
    "colab_type": "text",
    "id": "D58kOtOXjrR7"
   },
   "source": [
    "__(1)__ For the following task, use the _listing.html_ file, which represents a listings for a property. Open the HTML file on your browser, investigate it with the Inspect tool, view the source code and explore it. \n",
    "After that, fill the CSS3 selectors in the following script to extract the following information about this property:\n",
    "\n",
    "* Number of bathrooms\n",
    "* Number of bedrooms\n",
    "* Living Area\n",
    "* Energy Rating\n",
    "* Description\n",
    "* Agent Name\n",
    "* Extract the location of the property"
   ]
  },
  {
   "cell_type": "code",
   "execution_count": 4,
   "metadata": {
    "colab": {},
    "colab_type": "code",
    "id": "_ubceG6_rEek"
   },
   "outputs": [
    {
     "name": "stdout",
     "output_type": "stream",
     "text": [
      "Requirement already satisfied: lxml in c:\\users\\sony\\anaconda3.5\\lib\\site-packages (4.2.1)\n"
     ]
    },
    {
     "name": "stderr",
     "output_type": "stream",
     "text": [
      "tensorboard 1.6.0 has requirement bleach==1.5.0, but you'll have bleach 2.1.3 which is incompatible.\n",
      "tensorboard 1.6.0 has requirement html5lib==0.9999999, but you'll have html5lib 1.0.1 which is incompatible.\n",
      "You are using pip version 10.0.1, however version 18.1 is available.\n",
      "You should consider upgrading via the 'python -m pip install --upgrade pip' command.\n"
     ]
    },
    {
     "name": "stdout",
     "output_type": "stream",
     "text": [
      "Requirement already satisfied: cssselect in c:\\users\\sony\\anaconda3.5\\lib\\site-packages (1.0.3)\n"
     ]
    },
    {
     "name": "stderr",
     "output_type": "stream",
     "text": [
      "tensorboard 1.6.0 has requirement bleach==1.5.0, but you'll have bleach 2.1.3 which is incompatible.\n",
      "tensorboard 1.6.0 has requirement html5lib==0.9999999, but you'll have html5lib 1.0.1 which is incompatible.\n",
      "You are using pip version 10.0.1, however version 18.1 is available.\n",
      "You should consider upgrading via the 'python -m pip install --upgrade pip' command.\n"
     ]
    }
   ],
   "source": [
    "!pip install lxml\n",
    "!pip install cssselect"
   ]
  },
  {
   "cell_type": "code",
   "execution_count": 204,
   "metadata": {
    "colab": {},
    "colab_type": "code",
    "id": "Cqba2Ye43Hyy"
   },
   "outputs": [],
   "source": [
    "# EXAMPLE SELECTOR TO EXTRACT THE PROPERTY TYPE\n",
    "Selector_Example = \"h1.lbl_titulo\""
   ]
  },
  {
   "cell_type": "code",
   "execution_count": 205,
   "metadata": {
    "colab": {},
    "colab_type": "code",
    "id": "-UYR51QwrYWW"
   },
   "outputs": [
    {
     "name": "stdout",
     "output_type": "stream",
     "text": [
      "Example -> Property type: 3 Bedroom House\n"
     ]
    }
   ],
   "source": [
    "# EXAMPLE CODE, RUN TO CHECK THE EXAMPLE SELECTOR \n",
    "\n",
    "from lxml import html,etree\n",
    "\n",
    "with open(r'C:\\Users\\sony\\Downloads\\Casafari Assesment - Bruno Italo Lima Benevides\\listing.html', \"r\") as f:\n",
    "    page = f.read()\n",
    "tree = html.fromstring(page)\n",
    "\n",
    "print('Example -> Property type: {}'.format(tree.cssselect(Selector_Example)[0].text))\n"
   ]
  },
  {
   "cell_type": "markdown",
   "metadata": {
    "colab_type": "text",
    "id": "M7MJswrmP89Z"
   },
   "source": [
    "Now that you understand the example, just fill the CSS selectors here and check it by running the below cells:"
   ]
  },
  {
   "cell_type": "code",
   "execution_count": 206,
   "metadata": {
    "colab": {},
    "colab_type": "code",
    "id": "o-2ra_gioTOy"
   },
   "outputs": [],
   "source": [
    "############## Q1 ANSWERS ##################\n",
    "Selector_1 = \"ul.bloco-dados span\"\n",
    "Selector_2 = \"ul.bloco-dados span\"\n",
    "Selector_3 = \"ul.bloco-dados span\"\n",
    "Selector_4 = \"ul.bloco-dados span\"\n",
    "Selector_5 = \"div.bloco-imovel-texto p\"\n",
    "Selector_6 = \"div.lbl_titulo\"\n",
    "Selector_7 = \"span.lbl_morada\""
   ]
  },
  {
   "cell_type": "code",
   "execution_count": 114,
   "metadata": {
    "colab": {},
    "colab_type": "code",
    "id": "AaJuBU1nqsub"
   },
   "outputs": [
    {
     "name": "stdout",
     "output_type": "stream",
     "text": [
      "Bathrooms:  1 \n",
      "\n",
      "Bedrooms:  2 \n",
      "\n",
      "Total area:  0 m\n",
      "\n",
      "Living area:  80 m\n",
      "\n",
      "Description: At vero eos et accusamus et iusto odio dignissimos ducimus qui blanditiis praesentium voluptatum deleniti atque corrupti quos dolores et quas molestias excepturi sint occaecati cupiditate non provident, similique sunt in culpa qui officia deserunt mollitia animi, id est laborum et dolorum fugaEt harum quidem rerum facilis est et expedita distinctio.Nam libero tempore, cum soluta nobis est eligendi optio cumque nihil impedit quo minus id quod maxime placeat facere possimus, omnis voluptas assumenda est, omnis dolor repellendus.\n",
      "\n",
      "Agent name: Agent John Doe\n",
      "\n",
      "Location: Portugal, Lisboa, Estrela, Lapa\n"
     ]
    }
   ],
   "source": [
    "############### RUN TO CHECK YOUR ANSWERS ##################\n",
    "print('Bathrooms: {}'.format(tree.cssselect(Selector_1)[3].text))\n",
    "print('')\n",
    "print('Bedrooms: {}'.format(tree.cssselect(Selector_2)[4].text))\n",
    "print('')\n",
    "print('Total area: {}'.format(tree.cssselect(Selector_3)[2].text))\n",
    "print('')\n",
    "print('Living area: {}'.format(tree.cssselect(Selector_4)[1].text))\n",
    "print('')\n",
    "print('Description: {}'.format(tree.cssselect(Selector_5)[0].text))\n",
    "print('')\n",
    "print('Agent name: {}'.format(tree.cssselect(Selector_6)[0].text))\n",
    "print('')\n",
    "print('Location: {}'.format(tree.cssselect(Selector_7)[0].text))"
   ]
  },
  {
   "cell_type": "markdown",
   "metadata": {
    "colab_type": "text",
    "id": "__U3ndDeRbt6"
   },
   "source": [
    "__Extra Challenge 1__:\n",
    "\n",
    "Write from scratch a script to extract and print:\n",
    "* One link that leads to http://mydomain.com/link-to-image\n",
    "* Extract all the features of the property"
   ]
  },
  {
   "cell_type": "code",
   "execution_count": 0,
   "metadata": {
    "colab": {},
    "colab_type": "code",
    "id": "iLmuSkUFR-LA"
   },
   "outputs": [],
   "source": [
    "############### WRITE THE SCRIPT TO SOLVE THE EXTRA CHALLENGE HERE ##################"
   ]
  },
  {
   "cell_type": "markdown",
   "metadata": {
    "colab_type": "text",
    "id": "5CX07lJog1Jv"
   },
   "source": [
    "__(2)__ In the second part you will still have to use the html file. However, this time, you should use regular expressions to extract the following data from the webpage:\n",
    "\n",
    "* Urls that are links to listings (i.e.: http://mydomain.com/link-to-listing). Do not use the whole url itself in regular expression. It should select only 3 links.\n",
    "* The agent telephone number\n",
    "* The property price"
   ]
  },
  {
   "cell_type": "code",
   "execution_count": 374,
   "metadata": {
    "colab": {},
    "colab_type": "code",
    "id": "ANpQ4SvPSvpg"
   },
   "outputs": [],
   "source": [
    "# REGEXP EXAMPLE TO EXTRACT THE AGENT EMAIL\n",
    "Regexp_Example = r\"\\\">(.*?@.*?)<\""
   ]
  },
  {
   "cell_type": "code",
   "execution_count": 208,
   "metadata": {
    "colab": {},
    "colab_type": "code",
    "id": "6mPc9TCF2jOx"
   },
   "outputs": [
    {
     "name": "stdout",
     "output_type": "stream",
     "text": [
      "Email extracted: casatest@casa.pt\n"
     ]
    }
   ],
   "source": [
    "# RUN TO CHECK THE EXAMPLE RESULTS\n",
    "import re\n",
    "\n",
    "with open(r'C:\\Users\\sony\\Downloads\\Casafari Assesment - Bruno Italo Lima Benevides\\listing.html', \"r\") as f:\n",
    "    page = f.read()\n",
    "\n",
    "print(\"Email extracted: {}\".format(re.findall(Regexp_Example, page)[0]))"
   ]
  },
  {
   "cell_type": "code",
   "execution_count": 372,
   "metadata": {
    "colab": {},
    "colab_type": "code",
    "id": "6z_yGAIm8uyC"
   },
   "outputs": [],
   "source": [
    "# WRITE YOUR REGULAR EXPRESSIONS HERE\n",
    "Regexp_1 = r\"http[s]?://(?:[a-zA-Z]|[0-9]|[$-_@.&+]|[!*\\(\\),]|(?:%[0-9a-fA-F][0-9a-fA-F]))+\"\n",
    "Regexp_2 = r\"(\\d{3}[-\\.\\s]??\\d{3}[-\\.\\s]??\\d{4}|\\(\\d{3}\\)\\s*\\d{3}[-\\.\\s]??\\d{4}|\\d{3}[-\\.\\s]??\\d{4})\"\n",
    "Regexp_3 = r\"\\d{1,3}(?:[.,]\\d{3})*(?:[.,]\\d{2})\""
   ]
  },
  {
   "cell_type": "code",
   "execution_count": 373,
   "metadata": {
    "colab": {},
    "colab_type": "code",
    "id": "nRZMlLL8r0Pc"
   },
   "outputs": [
    {
     "name": "stdout",
     "output_type": "stream",
     "text": [
      "Links extrated:\n",
      "http://mydomain.com/link-to-image\n",
      "https://upload.wikimedia.org/wikipedia/commons/thumb/c/c9/Ranch_style_home_in_Salinas%2C_California.JPG/220px-Ranch_style_home_in_Salinas%2C_California.JPG\n",
      "http://mydomain.com/link-to-listing\n",
      "http://mydomain.com/link-to-listing\n",
      "http://mydomain.com/link-to-listing\n",
      "\n",
      "Agent Phone Number: 5194999\n",
      "\n",
      "Property price: 1.500.00\n"
     ]
    }
   ],
   "source": [
    "############### RUN TO CHECK YOUR ANSWERS ##################\n",
    "print('Links extrated:')\n",
    "for w in re.findall(Regexp_1, page):\n",
    "  print(w)\n",
    "print('')\n",
    "print(\"Agent Phone Number: {}\".format(re.findall(Regexp_2, page)[0]))\n",
    "print('')\n",
    "print(\"Property price: {}\".format(re.findall(Regexp_3, page)[0]))"
   ]
  },
  {
   "cell_type": "markdown",
   "metadata": {
    "colab_type": "text",
    "id": "o4DbKPVDSk8w"
   },
   "source": [
    "__Extra Challenge 2:__\n",
    "* Extract latitude and longitude value from html ()_those values are in the html code, but are not shown on the page__)"
   ]
  },
  {
   "cell_type": "code",
   "execution_count": 0,
   "metadata": {
    "colab": {},
    "colab_type": "code",
    "id": "o5AylkERSo6F"
   },
   "outputs": [],
   "source": [
    "############### WRITE THE SCRIPT TO SOLVE THE EXTRA CHALLENGE HERE ##################"
   ]
  },
  {
   "cell_type": "markdown",
   "metadata": {
    "colab_type": "text",
    "id": "DxAqykAnY22Q"
   },
   "source": [
    "__(3)__ For the last task,  use the *sample.json* file. This file contains JSON that has a list of objects inside. Open the file in a code editor, try to identify some pattern on it and check it's structure first. Each object is under unique ID: \n",
    "\n",
    "\n",
    "\n",
    "\n",
    "{ \n",
    "\n",
    "\"SV350\": { ... // data, describing the object ... }, \n",
    "\n",
    "\"fKDFI3\": { ... // data, describing the object ... },\n",
    "\n",
    "...\n",
    "\n",
    "\"38shF\": { ... // data, describing the object ... } \n",
    "\n",
    "}\n",
    "\n",
    "\n",
    "\n",
    "\n",
    "Therefore, you need to write one regular expression to extract the following information:\n",
    "* Every unique ID on this file (for example, the first unique ID should be NC065 and the last should be NN574). \n",
    "\n",
    "Hint: The length of your list should be 211"
   ]
  },
  {
   "cell_type": "code",
   "execution_count": 0,
   "metadata": {
    "colab": {},
    "colab_type": "code",
    "id": "VPI6oVuXURc7"
   },
   "outputs": [],
   "source": [
    "# WRITE YOUR REGULAR EXPRESSION HERE\n",
    "Regexp_JSON = r\"WRITE REGEXP HERE\""
   ]
  },
  {
   "cell_type": "code",
   "execution_count": 0,
   "metadata": {
    "colab": {},
    "colab_type": "code",
    "id": "Sa6N56T4kBx7"
   },
   "outputs": [],
   "source": [
    "with open(r'sample.json', \"r\") as f:\n",
    "    json = f.read()\n",
    "\n",
    "print('----- Expressions extracted -----')\n",
    "print(\"First unique id: {}\".format(re.findall(Regexp_JSON, json)[0]))\n",
    "print(\"Last unique id: {}\".format(re.findall(Regexp_JSON, json)[-1]))\n",
    "print(\"Length of list of unique ids: {}\".format(len(re.findall(Regexp_JSON, json), json))))"
   ]
  },
  {
   "cell_type": "markdown",
   "metadata": {
    "colab_type": "text",
    "id": "yL20DRtYTuc3"
   },
   "source": [
    "**Extra Challenge 3:**\n",
    "* Extract all unique IDs that has the expression _\"land\":\"ESP\"_ inside (for example, the object SV350 has this expression inside it)."
   ]
  },
  {
   "cell_type": "code",
   "execution_count": 0,
   "metadata": {
    "colab": {},
    "colab_type": "code",
    "id": "3waNjkEUTr_t"
   },
   "outputs": [],
   "source": [
    "############### WRITE THE SCRIPT TO SOLVE THE EXTRA CHALLENGE HERE ##################"
   ]
  },
  {
   "cell_type": "markdown",
   "metadata": {
    "colab_type": "text",
    "id": "YwNzVMIwadT-"
   },
   "source": [
    "# Data Querying (SQL)\n",
    "\n",
    "You have now collected the data, and cleaned it.  It was published in Casafari database and you have to query the data in order to prepare it for analysis. \n",
    "\n",
    "To solve this problem consider the data set provided in _properties.csv_ and _agents.csv_ to test your queries. As before, please fill in your queries in the cells provided (double click the blank cells to fill them in). \n",
    "\n",
    "In this task we just want to evaluate your knowledge of SQL syntax, so keep it simple. Do not try to overclean the data in this task. You'll get to do this on the next task with Python.\n",
    "\n",
    "###Schemas:\n",
    "- PROPERTIES table: \n",
    "  - **id**(PK, INT) - unique identification number of the property ad listing\n",
    "  - **title**(VARCHAR) - title of the property ad listing\n",
    "  - **features**(VARCHAR) - field with additional characteristics of the property ad listing\n",
    "  - **living_area**(FLOAT) - living area of the property in square meters\n",
    "  - **total_area**(FLOAT)- total area of the property in square meters\n",
    "   - **plot_area**(FLOAT) - plot area of the property in square meters\n",
    "  - **price**(FLOAT) - selling price of the property in euros\n",
    "  - **agent_id**(INT) - selling agent id\n",
    "  - **createdAt**(DATE) - date in which the property was added to the market\n",
    "- AGENTS table: \n",
    "  - **agent_id**(PK, INT) - selling agent id\n",
    "  - **company**(VARCHAR) - company for which the agent works\n",
    "\n",
    "###Details of properties:\n",
    "- **locations** can be: Alenquer, Quinta da Marinha, Golden Mile, Nagüeles;\n",
    "- **types** can be: ‘apartment’, ‘penthouse’, ‘duplex’, ‘house’, ‘villa’, ‘country estate’,\n",
    "‘moradia', ‘quinta', ‘plot’, ‘land’; \n",
    "- the property types can be part of the following **property groups**:\n",
    "  1. group **‘apartments’** includes types ‘apartment’, ‘penthouse’, ‘duplex’;\n",
    "  2. group **‘‘houses’**‘ includes types ‘house’, ‘villa’, ‘country estate’, ‘moradia', ‘quinta’;\n",
    "  3. group **‘‘plots’**‘ includes types ’plot’, ‘land’.\n",
    "- areas:\n",
    " - for the group **‘plots’** use **plot_area**;\n",
    " - for groups **‘apartments’** and **‘houses’** use the highest value between **total_area** or **living_area**;\n",
    "\n",
    "\n",
    "###Questions:\n",
    "- (Q1) Write a query to extract only listings with a property type “quinta” or “house”;\n",
    "- (Q2) Write a query to extract only listings of properties with a pool;\n",
    "- (Q3) Write a query calculating the average price per square meter of all apartments in Nagüeles.\n",
    "- (Q4) Write a query to identify top 3 companies with largest amount of properties\n",
    "- (Q5) Identify top 3 agents by number of properties within each company\n",
    "\n",
    "\n",
    "####HINT:\n",
    "- Check the csv for these 2 parts. Location names and property type can be found within the title. Be aware of possible traps.\n"
   ]
  },
  {
   "cell_type": "markdown",
   "metadata": {
    "colab_type": "text",
    "id": "ZMiufR188DzQ"
   },
   "source": [
    "Query 1:\n",
    "``` **mysql**\n",
    "\n",
    "\n",
    "SELECT *\n",
    "FROM properties.csv_______\n",
    "WHERE title (like 'house%' or title like 'quinta%')_______;\n",
    "\n",
    "```"
   ]
  },
  {
   "cell_type": "markdown",
   "metadata": {
    "colab_type": "text",
    "id": "RB-PnF489SmC"
   },
   "source": [
    "Query 2:\n",
    "``` **mysql**\n",
    "SELECT *\n",
    "\n",
    "\n",
    "FROM properties.csv\n",
    "WHERE features like '%pool%'\n",
    "\n",
    "```"
   ]
  },
  {
   "cell_type": "markdown",
   "metadata": {
    "colab_type": "text",
    "id": "lgzd0mTe9U9O"
   },
   "source": [
    "Query 3:\n",
    "``` **mysql**\n",
    "SELECT\n",
    "SUM (price)/SUM (total_area)\n",
    "\n",
    "\n",
    "FROM properties.csv\n",
    "WHERE title like '%Nagueles%' AND title like ('%duplex%' or title like '%apartment%' or title like '%penthouse%') \n",
    "\n",
    "```"
   ]
  },
  {
   "cell_type": "markdown",
   "metadata": {
    "colab_type": "text",
    "id": "aO_r3o7a9W0t"
   },
   "source": [
    "Query 4:\n",
    "``` **mysql**\n",
    "\n",
    "SELECT TOP (3)\n",
    "\n",
    "company, COUNT (id)\n",
    "\n",
    "\n",
    "FROM properties.csv AS p\n",
    "LEFT JOIN agents.csv.agent_id AS a on p.agent_id \n",
    "\n",
    "GROUP BY company\n",
    "Order by desc\n",
    "\n",
    "```"
   ]
  },
  {
   "cell_type": "markdown",
   "metadata": {
    "colab_type": "text",
    "id": "Kp0_Ugcs9Y-Y"
   },
   "source": [
    "Query 5:\n",
    "``` **mysql**\n",
    "\n",
    "\n",
    "\n",
    "\n",
    "\n",
    "```"
   ]
  },
  {
   "cell_type": "markdown",
   "metadata": {
    "colab_type": "text",
    "id": "_b76pb1YYc5B"
   },
   "source": [
    "**Extra challenge 4:**\n",
    "- (Q6) Write a query to identify companies with most expensive properties for each month in 2017\n",
    "- (Q7) Write a query to get first and last property posted by each company"
   ]
  },
  {
   "cell_type": "markdown",
   "metadata": {
    "colab_type": "text",
    "id": "LvSED0f19anR"
   },
   "source": [
    "Query 6:\n",
    "``` **mysql**\n",
    "\n",
    "\n",
    "\n",
    "\n",
    "\n",
    "```"
   ]
  },
  {
   "cell_type": "markdown",
   "metadata": {
    "colab_type": "text",
    "id": "bz3NC48O9cfa"
   },
   "source": [
    "Query 7:\n",
    "``` **mysql**\n",
    "\n",
    "\n",
    "\n",
    "\n",
    "\n",
    "```"
   ]
  },
  {
   "cell_type": "markdown",
   "metadata": {
    "colab_type": "text",
    "id": "D6n6ZF7VahF3"
   },
   "source": [
    "# Data Analysis (Python)\n",
    "\n",
    "\n",
    "You obtained all the data that you need and you now need to run an analysis on the following problem. For this part, feel free to use as many cells as you need below this point. Please use properties.csv as your data source. \n",
    "\n",
    "\n",
    "\n",
    "## Problem \n",
    "A private investor is planning an investment in one of the four locations. In order to decide where to invest he needs to know the price impact of such features as ‘pool’, ‘sea view’ and ‘garage’ on properties in each location.\n",
    "He also asks for the mean price of the properties in each type group (‘apartments’, ‘houses’, ‘plots’) and wants to know about properties in the market that are undervalued and overvalued. In order to accomplish the problem that was described we want you to cover the following steps:\n",
    "\n",
    "####Part 1: Data Cleaning\n",
    "As you have seen previously, a lot of information is present in the title/features fields. From there, we want to extract the relevant information for further analysis, such as:\n",
    " - 1A: Property  **type** (as presented in **Details** above, described in the SQL section) of each property from **title** field\n",
    " - 1B: Property **location** (as presented in **Details** above, described in the SQL section) of each property from ** title** field\n",
    " - 1C: From ** features** field, if a property has:\n",
    "  - a pool\n",
    "  - a garage\n",
    "  - sea view\n",
    "\n",
    "####Expected Outcome for Part 1:\n",
    "- Create a property dataset with the following schema and save it in a csv file:\n",
    "  - id; \n",
    "  - location name\n",
    "  - type\n",
    "  - title\n",
    "  - features\n",
    "  - pool (0/1)\n",
    "  - sea view (0/1)\n",
    "  - garage (0/1)\n",
    "- Pool, sea view and garage should be binary:1 if the property has the feature and 0 if not\n",
    "- For each of the 3 tasks (1A, 1B, 1C), describe in detail the what you did. What are the advantages and disadvantages of your approach?\n",
    "-  Please provide your code in the cells below, in a reproducible and understandable way;"
   ]
  },
  {
   "cell_type": "code",
   "execution_count": 316,
   "metadata": {
    "colab": {},
    "colab_type": "code",
    "id": "SEbVdIgUv0Qk"
   },
   "outputs": [
    {
     "name": "stdout",
     "output_type": "stream",
     "text": [
      "1281815.730753564\n"
     ]
    },
    {
     "data": {
      "image/png": "[encoded data removed]",
      "text/plain": [
       "<Figure size 432x288 with 1 Axes>"
      ]
     },
     "metadata": {},
     "output_type": "display_data"
    }
   ],
   "source": [
    "#Creating lists for each kind of property\n",
    "houses = ['villa', 'country estate', 'moradia', 'quinta']\n",
    "apartments = ['penthouse','duplex']\n",
    "plots = ['plot','lands']\n",
    "\n",
    "#Creating lists for each location\n",
    "Alenquer = ['Alenquer']\n",
    "Quinta_da_Marinha = ['Quinta da Marinha']\n",
    "Golden_Mile = ['Golden Mile']\n",
    "Nagüeles = ['Nagüeles']\n",
    "\n",
    "pool = ['pool','sweaming']\n",
    "sea_view = ['seaview','views to the sea','sea view','ocean view','Water View','views to the beach']\n",
    "garage = ['garage','car','Garage']\n",
    "\n",
    "#Importing dataset\n",
    "df = pd.read_csv(r'C:\\Users\\sony\\Downloads\\Casafari Assesment - Bruno Italo Lima Benevides\\properties.csv')\n",
    "\n",
    "#Creating the column \"type\" using 'for' and pandas Data Series function to find any word in the lists created\n",
    "ds = df['title']\n",
    "\n",
    "ds_new = []\n",
    "for i in range(ds.size):\n",
    "    if any(ext in ds[i] for ext in apartments):\n",
    "        ds_new.append('apartments')\n",
    "    elif any(ext in ds[i] for ext in houses):\n",
    "        ds_new.append('houses')\n",
    "    elif any(ext in ds[i] for ext in plots):\n",
    "        ds_new.append('plots')\n",
    "\n",
    "\n",
    "df['type'] = pd.Series(ds_new)\n",
    "\n",
    "\n",
    "#Creating the column \"location_name\" using 'for' ' and pandas Data Series function to find any word in the lists created\n",
    "ds = df['title']\n",
    "\n",
    "ds_new = []\n",
    "for i in range(ds.size):\n",
    "    if any(ext in ds[i] for ext in Alenquer):\n",
    "        ds_new.append('Alenquer')\n",
    "    elif any(ext in ds[i] for ext in Quinta_da_Marinha):\n",
    "        ds_new.append('Quinta da Marinha')\n",
    "    elif any(ext in ds[i] for ext in Golden_Mile):\n",
    "        ds_new.append('Golden Mile')\n",
    "    elif any(ext in ds[i] for ext in Nagüeles ):\n",
    "        ds_new.append('Nagüeles')\n",
    "df['location_name'] = pd.Series(ds_new)\n",
    "\n",
    "#Creating booleans for pool, sea view and garage features\n",
    "\n",
    "\n",
    "ds_new = []\n",
    "for i in range(ds.size):\n",
    "    if any(ext in ds[i] for ext in pool):\n",
    "        ds_new.append('pool')\n",
    "    elif any(ext in ds[i] for ext in sea_view):\n",
    "        ds_new.append('sea view')\n",
    "    elif any(ext in ds[i] for ext in garage):\n",
    "        ds_new.append('garage')\n",
    "df['booleans'] = pd.Series(ds_new)\n",
    "\n",
    "x = pd.get_dummies(df['booleans'])\n",
    "df['pool'] = x['pool']\n",
    "df['garage'] = x['garage']\n",
    "df['sea_view'] = x['sea view']\n",
    "\n",
    "\n",
    "df['features'] = df['features'].str.replace('0','')\n",
    "df['features'] = df['features'].str.replace('1','')\n",
    "df['features'] = df['features'].str.replace('2','')\n",
    "df['features'] = df['features'].str.replace('3','')\n",
    "df['features'] = df['features'].str.replace('4','')\n",
    "df['features'] = df['features'].str.replace('5','')\n",
    "df['features'] = df['features'].str.replace('6','')\n",
    "df['features'] = df['features'].str.replace('7','')\n",
    "df['features'] = df['features'].str.replace('8','')\n",
    "df['features'] = df['features'].str.replace('9','')\n",
    "df['features'] = df['features'].str.replace('>','')\n",
    "df['features'] = df['features'].str.replace('<','')\n",
    "\n",
    "df_final = df[['id','location_name','type','total_area','price']]\n",
    "\n",
    "df_final.head()\n",
    "#Ploting price graph to identify some outliers\n",
    "import matplotlib.pyplot as plt\n",
    "\n",
    "plt.plot(df_final['price'])\n",
    "print(np.mean(df_final['price']))\n"
   ]
  },
  {
   "cell_type": "markdown",
   "metadata": {
    "colab_type": "text",
    "id": "WS_0w3NAXTZc"
   },
   "source": [
    "####Part 2: Identify outliers\n",
    "Now that the data is structured correctly, let's look at which properties are a  good deal for our investor. For this you will need to** identify undervalued, overvalued, and normal properties** in the dataset. Remember that a  undervalued house in one location can be considered a high outlier in another location. Location and type classifications are important in this task.\n",
    "####Expected Outcome for Part 2:\n",
    "- As before, deliver a csv file with the following format:\n",
    "  - id\n",
    "  - location name\n",
    "  - type\n",
    "  - area\n",
    "  - price\n",
    "  - over-valued (0/1)\n",
    "  - under-valued (0/1)\n",
    "  - normal (0/1)\n",
    "- the new columns should be binary, where for example **over-valued** column would get value 1 if the property is indeed over-valued, 0 otherwise;\n",
    "- A short report (could be a pdf file or new cells within the notebook) containing:\n",
    "  - visualizations (such as scatter plots) discriminating between the undervalued, overvalued and normal properties.\n",
    "  - a explanation of what is the difference between under-valued/over-valued properties and pure data outliers;\n",
    "  - any notes/conclusions you wish to add;\n",
    "- Provide your code in a reproducible way in the cells below;"
   ]
  },
  {
   "cell_type": "code",
   "execution_count": null,
   "metadata": {},
   "outputs": [],
   "source": []
  },
  {
   "cell_type": "markdown",
   "metadata": {
    "colab_type": "text",
    "id": "_m0oYlVUXWqI"
   },
   "source": [
    "####Part 3: Theoretical questions\n",
    "- Mention at least 2 hidden traps you found while solving the problems and what would help you to clean the data set;\n",
    "- Describe in detail how you would evaluate the price impact of features such as sea view, pool and garage considering the dataset provided. Your answer should also include how would you deal with missing values, outliers and duplicated listings (same property listing published by different agencies);\n"
   ]
  },
  {
   "cell_type": "markdown",
   "metadata": {
    "colab": {},
    "colab_type": "code",
    "id": "pRh5IOYBvzic"
   },
   "source": [
    "1 - There was a trap in features column, where some floats variables were in the middle of the strings. I don't know about another one.\n",
    "\n",
    "2 - To evaluate the impact of those features I'd use a linear regression model. Wich price would be the dependent variable and the features the independents one. Such that we have many observations, in that case, NaN values would be dropped, as ouliers and duplicated values as well."
   ]
  },
  {
   "cell_type": "markdown",
   "metadata": {
    "colab_type": "text",
    "id": "WEJZaN7uXaJ4"
   },
   "source": [
    "####Extra challenge 5:\n",
    "- Describe how would you model the data over time (using createdAt field). What changes over time would you look for and what would you expect the outcomes to be? (i.e. in terms of pricing per location/type)"
   ]
  },
  {
   "cell_type": "markdown",
   "metadata": {
    "colab": {},
    "colab_type": "code",
    "id": "H63ckTpFr-5_"
   },
   "source": [
    "I'd create some new variables as house's age, flags for seasons, such that price is dependent of the demand it can suffer some variations in the year. With more demand before the winter and less during it, for example. And the price would increase in areas overpopulated, because the demand for places like that would bigger than the offer. "
   ]
  },
  {
   "cell_type": "markdown",
   "metadata": {
    "colab_type": "text",
    "id": "fy4SljfAzuV0"
   },
   "source": [
    "# New Section"
   ]
  }
 ],
 "metadata": {
  "colab": {
   "collapsed_sections": [],
   "name": "Bruno Benevides_CasafariTest_SeniorDataScientist.ipynb",
   "provenance": [],
   "toc_visible": true,
   "version": "0.3.2"
  },
  "kernelspec": {
   "display_name": "Python 3",
   "language": "python",
   "name": "python3"
  },
  "language_info": {
   "codemirror_mode": {
    "name": "ipython",
    "version": 3
   },
   "file_extension": ".py",
   "mimetype": "text/x-python",
   "name": "python",
   "nbconvert_exporter": "python",
   "pygments_lexer": "ipython3",
   "version": "3.6.4"
  }
 },
 "nbformat": 4,
 "nbformat_minor": 1
}
